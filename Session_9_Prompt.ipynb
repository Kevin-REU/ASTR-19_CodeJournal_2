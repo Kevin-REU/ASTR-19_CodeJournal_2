{
 "cells": [
  {
   "cell_type": "markdown",
   "id": "b644763d-9908-4742-8513-34f0422251d7",
   "metadata": {},
   "source": [
    "# ASTR-19 Session 9 Prompt\n",
    "### Kevin Gustavo Roldan 2025/10/28\n",
    "###### Create a Jupyter notebook, import matplotlib. Use numpy to pull 1000 random numbers distributed uniformly between [0,1]. Histogram the random numbers into 100 bins, and plot the histogram. Label your axes and save the figure as a PDF."
   ]
  },
  {
   "cell_type": "markdown",
   "id": "71590688-3b0d-48b1-98b4-2c8d43e5cbbb",
   "metadata": {},
   "source": [
    "### Import Libraries"
   ]
  },
  {
   "cell_type": "code",
   "execution_count": 1,
   "id": "9a1f5b13-37fb-44eb-9541-50a782c37acb",
   "metadata": {},
   "outputs": [],
   "source": [
    "import matplotlib.pyplot as plt\n",
    "import numpy as np"
   ]
  },
  {
   "cell_type": "markdown",
   "id": "697e13cf-702d-4665-99dd-bb36ebfce7f4",
   "metadata": {},
   "source": [
    "### Functions"
   ]
  },
  {
   "cell_type": "code",
   "execution_count": 5,
   "id": "389bb16f-8b99-4bfb-8610-26e686c98870",
   "metadata": {},
   "outputs": [],
   "source": [
    "def histogram_plot(x,                          # Passed x-values\n",
    "                   flag_save=True,             # Save the figure?: Yes\n",
    "                   xlabel='x',                 # x-axis label\n",
    "                   ylabel='y',                 # y-axis label\n",
    "                   lcolor='blue',              # Bin color\n",
    "                   fs=14,                      # Font Size\n",
    "                   fname='HistogramPlot.pdf'): # Plot filename\n",
    "\n",
    "    # Define a figure and axis\n",
    "    f, ax = plt.subplots(1,1,figsize=(8,8))\n",
    "\n",
    "    # Plot y vs. x\n",
    "    ax.hist(x,facecolor=lcolor,bins=100,edgecolor='none',alpha=0.5)\n",
    "\n",
    "    # Label the axes\n",
    "    ax.set_xlabel(xlabel,fontsize=fs)\n",
    "    ax.set_ylabel(ylabel,fontsize=fs)\n",
    "\n",
    "    # Color the plot\n",
    "    ax.set_facecolor('grey')\n",
    "    #fig.patch.set_facecolor('black')\n",
    "\n",
    "    # Save the plot?\n",
    "    if(flag_save):\n",
    "        plt.savefig(fname,bbox_inches='tight',dpi=1000)"
   ]
  },
  {
   "cell_type": "markdown",
   "id": "7bfa5c0f-19b6-46f3-8434-4f3ed63d9b3a",
   "metadata": {},
   "source": [
    "### Main"
   ]
  },
  {
   "cell_type": "code",
   "execution_count": 6,
   "id": "b80e83d0-7958-45fe-a6d6-757589200aea",
   "metadata": {},
   "outputs": [],
   "source": [
    "def main():\n",
    "\n",
    "    # Let the use know that the plot is being created\n",
    "    print('Making a Histogram using 1,000 data points between 0 and 1')\n",
    "\n",
    "    # Create the variables\n",
    "    x = np.random.random([1000])\n",
    "\n",
    "    # Make the plot\n",
    "    histogram_plot(x)"
   ]
  },
  {
   "cell_type": "markdown",
   "id": "0222a3c4-e252-4ea5-9bb4-0332de89ba36",
   "metadata": {},
   "source": [
    "### Exececute Main"
   ]
  },
  {
   "cell_type": "code",
   "execution_count": 7,
   "id": "d88c061e-2a2f-4e33-af5e-2738d84b74f9",
   "metadata": {},
   "outputs": [
    {
     "name": "stdout",
     "output_type": "stream",
     "text": [
      "Making a Histogram using 1,000 data points between 0 and 1\n"
     ]
    },
    {
     "data": {
      "image/png": "[encoded data removed]",
      "text/plain": [
       "<Figure size 800x800 with 1 Axes>"
      ]
     },
     "metadata": {},
     "output_type": "display_data"
    }
   ],
   "source": [
    "if __name__==\"__main__\":\n",
    "    main()"
   ]
  },
  {
   "cell_type": "code",
   "execution_count": null,
   "id": "6d69f6fd-6a19-4cac-af31-5449cd47f5ae",
   "metadata": {},
   "outputs": [],
   "source": []
  }
 ],
 "metadata": {
  "kernelspec": {
   "display_name": "Python 3 (ipykernel)",
   "language": "python",
   "name": "python3"
  },
  "language_info": {
   "codemirror_mode": {
    "name": "ipython",
    "version": 3
   },
   "file_extension": ".py",
   "mimetype": "text/x-python",
   "name": "python",
   "nbconvert_exporter": "python",
   "pygments_lexer": "ipython3",
   "version": "3.13.7"
  }
 },
 "nbformat": 4,
 "nbformat_minor": 5
}
